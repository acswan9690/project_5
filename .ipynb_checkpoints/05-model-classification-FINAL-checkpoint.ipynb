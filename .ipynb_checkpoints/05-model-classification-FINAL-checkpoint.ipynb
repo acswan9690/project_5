{
 "cells": [
  {
   "cell_type": "markdown",
   "id": "60e2e760-4829-4fe9-9fe7-74b62d5f34e2",
   "metadata": {},
   "source": [
    "# Modeling - Classification\n",
    "---"
   ]
  },
  {
   "cell_type": "markdown",
   "id": "eb80f8a6-cff3-48ab-b73e-d1989f02e2dd",
   "metadata": {},
   "source": [
    "### Imports\n",
    "---"
   ]
  },
  {
   "cell_type": "code",
   "execution_count": 1,
   "id": "250c3ea3-6f2f-458c-9ae7-9dea44ba5c47",
   "metadata": {},
   "outputs": [],
   "source": [
    "import pandas as pd\n",
    "import numpy as np\n",
    "import datetime\n",
    "import time\n",
    "\n",
    "from sklearn.model_selection import train_test_split, GridSearchCV\n",
    "from sklearn.pipeline import Pipeline\n",
    "from sklearn.preprocessing import StandardScaler\n",
    "from sklearn.linear_model import LogisticRegression\n",
    "from sklearn.ensemble import RandomForestClassifier, VotingClassifier, AdaBoostClassifier, GradientBoostingClassifier\n",
    "from sklearn.neighbors import KNeighborsClassifier\n",
    "from sklearn.naive_bayes import MultinomialNB\n",
    "from sklearn import metrics\n",
    "\n",
    "\n",
    "from tensorflow.keras.models import Sequential\n",
    "from tensorflow.keras.layers import Dense, Dropout, BatchNormalization\n",
    "from tensorflow.keras.callbacks import EarlyStopping\n",
    "from tensorflow.keras.regularizers import l1, l2, l1_l2\n",
    "\n",
    "%matplotlib inline"
   ]
  },
  {
   "cell_type": "markdown",
   "id": "e66d9f16-e599-4efc-a78a-91077e180fe0",
   "metadata": {},
   "source": [
    "### Data\n",
    "---"
   ]
  },
  {
   "cell_type": "markdown",
   "id": "cccb3fcd-a4e4-46ea-91a0-3a93bb649b71",
   "metadata": {},
   "source": [
    "Read in and inspect our final data frame with weather and fire information."
   ]
  },
  {
   "cell_type": "code",
   "execution_count": 2,
   "id": "e54d3c3d-5a8e-4846-ab47-4f5c374b9857",
   "metadata": {},
   "outputs": [],
   "source": [
    "df = pd.read_csv('./data/combined.csv')"
   ]
  },
  {
   "cell_type": "code",
   "execution_count": 3,
   "id": "74234481-2c74-46ef-8b53-84a6a682d6e9",
   "metadata": {},
   "outputs": [
    {
     "data": {
      "text/html": [
       "<div>\n",
       "<style scoped>\n",
       "    .dataframe tbody tr th:only-of-type {\n",
       "        vertical-align: middle;\n",
       "    }\n",
       "\n",
       "    .dataframe tbody tr th {\n",
       "        vertical-align: top;\n",
       "    }\n",
       "\n",
       "    .dataframe thead th {\n",
       "        text-align: right;\n",
       "    }\n",
       "</style>\n",
       "<table border=\"1\" class=\"dataframe\">\n",
       "  <thead>\n",
       "    <tr style=\"text-align: right;\">\n",
       "      <th></th>\n",
       "      <th>date</th>\n",
       "      <th>county</th>\n",
       "      <th>maxtempF</th>\n",
       "      <th>mintempF</th>\n",
       "      <th>avgtempF</th>\n",
       "      <th>totalSnow</th>\n",
       "      <th>humid</th>\n",
       "      <th>wind</th>\n",
       "      <th>precip</th>\n",
       "      <th>q_avgtempF</th>\n",
       "      <th>q_avghumid</th>\n",
       "      <th>q_sumprecip</th>\n",
       "      <th>sunHour</th>\n",
       "      <th>FIRE_NAME</th>\n",
       "      <th>CAUSE</th>\n",
       "      <th>lat</th>\n",
       "      <th>long</th>\n",
       "      <th>GIS_ACRES</th>\n",
       "    </tr>\n",
       "  </thead>\n",
       "  <tbody>\n",
       "    <tr>\n",
       "      <th>0</th>\n",
       "      <td>2008-07</td>\n",
       "      <td>Santa Barbara County</td>\n",
       "      <td>89.129032</td>\n",
       "      <td>59.709677</td>\n",
       "      <td>80.548387</td>\n",
       "      <td>0.0</td>\n",
       "      <td>41.451613</td>\n",
       "      <td>7.354839</td>\n",
       "      <td>0.0</td>\n",
       "      <td>72.937634</td>\n",
       "      <td>34.079570</td>\n",
       "      <td>0.010000</td>\n",
       "      <td>13.164516</td>\n",
       "      <td>no_fire</td>\n",
       "      <td>0.0</td>\n",
       "      <td>34.54</td>\n",
       "      <td>-120.04</td>\n",
       "      <td>0.000000</td>\n",
       "    </tr>\n",
       "    <tr>\n",
       "      <th>1</th>\n",
       "      <td>2008-07</td>\n",
       "      <td>Calaveras County</td>\n",
       "      <td>96.419355</td>\n",
       "      <td>51.290323</td>\n",
       "      <td>87.032258</td>\n",
       "      <td>0.0</td>\n",
       "      <td>33.580645</td>\n",
       "      <td>5.387097</td>\n",
       "      <td>0.0</td>\n",
       "      <td>65.217204</td>\n",
       "      <td>38.434409</td>\n",
       "      <td>0.068065</td>\n",
       "      <td>14.022581</td>\n",
       "      <td>SERPENTINE</td>\n",
       "      <td>1.0</td>\n",
       "      <td>38.18</td>\n",
       "      <td>-120.56</td>\n",
       "      <td>176.763400</td>\n",
       "    </tr>\n",
       "    <tr>\n",
       "      <th>2</th>\n",
       "      <td>2008-07</td>\n",
       "      <td>Calaveras County</td>\n",
       "      <td>96.419355</td>\n",
       "      <td>51.290323</td>\n",
       "      <td>87.032258</td>\n",
       "      <td>0.0</td>\n",
       "      <td>33.580645</td>\n",
       "      <td>5.387097</td>\n",
       "      <td>0.0</td>\n",
       "      <td>65.217204</td>\n",
       "      <td>38.434409</td>\n",
       "      <td>0.068065</td>\n",
       "      <td>14.022581</td>\n",
       "      <td>POOL 2 - MAIN</td>\n",
       "      <td>10.0</td>\n",
       "      <td>38.18</td>\n",
       "      <td>-120.56</td>\n",
       "      <td>73.444778</td>\n",
       "    </tr>\n",
       "    <tr>\n",
       "      <th>3</th>\n",
       "      <td>2008-07</td>\n",
       "      <td>Calaveras County</td>\n",
       "      <td>96.419355</td>\n",
       "      <td>51.290323</td>\n",
       "      <td>87.032258</td>\n",
       "      <td>0.0</td>\n",
       "      <td>33.580645</td>\n",
       "      <td>5.387097</td>\n",
       "      <td>0.0</td>\n",
       "      <td>65.217204</td>\n",
       "      <td>38.434409</td>\n",
       "      <td>0.068065</td>\n",
       "      <td>14.022581</td>\n",
       "      <td>FRENCH</td>\n",
       "      <td>14.0</td>\n",
       "      <td>38.18</td>\n",
       "      <td>-120.56</td>\n",
       "      <td>101.074150</td>\n",
       "    </tr>\n",
       "    <tr>\n",
       "      <th>4</th>\n",
       "      <td>2008-07</td>\n",
       "      <td>Calaveras County</td>\n",
       "      <td>96.419355</td>\n",
       "      <td>51.290323</td>\n",
       "      <td>87.032258</td>\n",
       "      <td>0.0</td>\n",
       "      <td>33.580645</td>\n",
       "      <td>5.387097</td>\n",
       "      <td>0.0</td>\n",
       "      <td>65.217204</td>\n",
       "      <td>38.434409</td>\n",
       "      <td>0.068065</td>\n",
       "      <td>14.022581</td>\n",
       "      <td>EVANS</td>\n",
       "      <td>6.0</td>\n",
       "      <td>38.18</td>\n",
       "      <td>-120.56</td>\n",
       "      <td>103.968050</td>\n",
       "    </tr>\n",
       "  </tbody>\n",
       "</table>\n",
       "</div>"
      ],
      "text/plain": [
       "      date                county   maxtempF   mintempF   avgtempF  totalSnow  \\\n",
       "0  2008-07  Santa Barbara County  89.129032  59.709677  80.548387        0.0   \n",
       "1  2008-07      Calaveras County  96.419355  51.290323  87.032258        0.0   \n",
       "2  2008-07      Calaveras County  96.419355  51.290323  87.032258        0.0   \n",
       "3  2008-07      Calaveras County  96.419355  51.290323  87.032258        0.0   \n",
       "4  2008-07      Calaveras County  96.419355  51.290323  87.032258        0.0   \n",
       "\n",
       "       humid      wind  precip  q_avgtempF  q_avghumid  q_sumprecip  \\\n",
       "0  41.451613  7.354839     0.0   72.937634   34.079570     0.010000   \n",
       "1  33.580645  5.387097     0.0   65.217204   38.434409     0.068065   \n",
       "2  33.580645  5.387097     0.0   65.217204   38.434409     0.068065   \n",
       "3  33.580645  5.387097     0.0   65.217204   38.434409     0.068065   \n",
       "4  33.580645  5.387097     0.0   65.217204   38.434409     0.068065   \n",
       "\n",
       "     sunHour       FIRE_NAME  CAUSE    lat    long   GIS_ACRES  \n",
       "0  13.164516         no_fire    0.0  34.54 -120.04    0.000000  \n",
       "1  14.022581      SERPENTINE    1.0  38.18 -120.56  176.763400  \n",
       "2  14.022581  POOL 2 - MAIN    10.0  38.18 -120.56   73.444778  \n",
       "3  14.022581          FRENCH   14.0  38.18 -120.56  101.074150  \n",
       "4  14.022581           EVANS    6.0  38.18 -120.56  103.968050  "
      ]
     },
     "execution_count": 3,
     "metadata": {},
     "output_type": "execute_result"
    }
   ],
   "source": [
    "df.head()"
   ]
  },
  {
   "cell_type": "markdown",
   "id": "1130a411-237f-4a39-a23a-fb9dabb863a8",
   "metadata": {},
   "source": [
    "### Data Cleaning and Feature Engineering\n",
    "---"
   ]
  },
  {
   "cell_type": "markdown",
   "id": "b4c02ef4-6131-4ac5-88c5-addfe6bf913b",
   "metadata": {},
   "source": [
    "There were a handful of columns that are useless to us so we dropped them below: fire name, latitude, and longitude."
   ]
  },
  {
   "cell_type": "code",
   "execution_count": 4,
   "id": "c7605f37-1c0d-4c65-b158-b724353ebed1",
   "metadata": {},
   "outputs": [],
   "source": [
    "df = df.drop(columns=['FIRE_NAME', 'lat', 'long'])"
   ]
  },
  {
   "cell_type": "markdown",
   "id": "9d900aea-03a3-430a-af2e-8e066a5d3d6a",
   "metadata": {},
   "source": [
    "We needed to make a bool column to identifity if there was a fire.  For this model if a fire occured, it was assigned 1, if a fire DID NOT occur it is given 0."
   ]
  },
  {
   "cell_type": "code",
   "execution_count": 5,
   "id": "19b29a6f-f7e3-4157-a7d3-8de9c39367f8",
   "metadata": {},
   "outputs": [],
   "source": [
    "df['bool'] = (df['GIS_ACRES'] > 0) * 1"
   ]
  },
  {
   "cell_type": "markdown",
   "id": "71d19303-2549-4b15-aabb-6a612183aa10",
   "metadata": {},
   "source": [
    "To allow for easier manipulation and processing in previous notebooks our `'date'` column was cast as a string but now we want to be able to use year and month seperately withint our model.  We split year and month and assigned both as integers."
   ]
  },
  {
   "cell_type": "code",
   "execution_count": 6,
   "id": "081712bb-d29c-48b9-83a1-844ed63f3a25",
   "metadata": {},
   "outputs": [],
   "source": [
    "df['date'] = [x.split('-') for x in df['date']]\n",
    "df['year'] = [int(x[0]) for x in df['date']]\n",
    "df['month'] = [int(x[1]) for x in df['date']]"
   ]
  },
  {
   "cell_type": "code",
   "execution_count": 7,
   "id": "9bf279fb-c2ad-430f-b010-1aacf2c276f3",
   "metadata": {},
   "outputs": [
    {
     "data": {
      "text/html": [
       "<div>\n",
       "<style scoped>\n",
       "    .dataframe tbody tr th:only-of-type {\n",
       "        vertical-align: middle;\n",
       "    }\n",
       "\n",
       "    .dataframe tbody tr th {\n",
       "        vertical-align: top;\n",
       "    }\n",
       "\n",
       "    .dataframe thead th {\n",
       "        text-align: right;\n",
       "    }\n",
       "</style>\n",
       "<table border=\"1\" class=\"dataframe\">\n",
       "  <thead>\n",
       "    <tr style=\"text-align: right;\">\n",
       "      <th></th>\n",
       "      <th>date</th>\n",
       "      <th>county</th>\n",
       "      <th>maxtempF</th>\n",
       "      <th>mintempF</th>\n",
       "      <th>avgtempF</th>\n",
       "      <th>totalSnow</th>\n",
       "      <th>humid</th>\n",
       "      <th>wind</th>\n",
       "      <th>precip</th>\n",
       "      <th>q_avgtempF</th>\n",
       "      <th>q_avghumid</th>\n",
       "      <th>q_sumprecip</th>\n",
       "      <th>sunHour</th>\n",
       "      <th>CAUSE</th>\n",
       "      <th>GIS_ACRES</th>\n",
       "      <th>bool</th>\n",
       "      <th>year</th>\n",
       "      <th>month</th>\n",
       "    </tr>\n",
       "  </thead>\n",
       "  <tbody>\n",
       "    <tr>\n",
       "      <th>0</th>\n",
       "      <td>[2008, 07]</td>\n",
       "      <td>Santa Barbara County</td>\n",
       "      <td>89.129032</td>\n",
       "      <td>59.709677</td>\n",
       "      <td>80.548387</td>\n",
       "      <td>0.0</td>\n",
       "      <td>41.451613</td>\n",
       "      <td>7.354839</td>\n",
       "      <td>0.0</td>\n",
       "      <td>72.937634</td>\n",
       "      <td>34.079570</td>\n",
       "      <td>0.010000</td>\n",
       "      <td>13.164516</td>\n",
       "      <td>0.0</td>\n",
       "      <td>0.000000</td>\n",
       "      <td>0</td>\n",
       "      <td>2008</td>\n",
       "      <td>7</td>\n",
       "    </tr>\n",
       "    <tr>\n",
       "      <th>1</th>\n",
       "      <td>[2008, 07]</td>\n",
       "      <td>Calaveras County</td>\n",
       "      <td>96.419355</td>\n",
       "      <td>51.290323</td>\n",
       "      <td>87.032258</td>\n",
       "      <td>0.0</td>\n",
       "      <td>33.580645</td>\n",
       "      <td>5.387097</td>\n",
       "      <td>0.0</td>\n",
       "      <td>65.217204</td>\n",
       "      <td>38.434409</td>\n",
       "      <td>0.068065</td>\n",
       "      <td>14.022581</td>\n",
       "      <td>1.0</td>\n",
       "      <td>176.763400</td>\n",
       "      <td>1</td>\n",
       "      <td>2008</td>\n",
       "      <td>7</td>\n",
       "    </tr>\n",
       "    <tr>\n",
       "      <th>2</th>\n",
       "      <td>[2008, 07]</td>\n",
       "      <td>Calaveras County</td>\n",
       "      <td>96.419355</td>\n",
       "      <td>51.290323</td>\n",
       "      <td>87.032258</td>\n",
       "      <td>0.0</td>\n",
       "      <td>33.580645</td>\n",
       "      <td>5.387097</td>\n",
       "      <td>0.0</td>\n",
       "      <td>65.217204</td>\n",
       "      <td>38.434409</td>\n",
       "      <td>0.068065</td>\n",
       "      <td>14.022581</td>\n",
       "      <td>10.0</td>\n",
       "      <td>73.444778</td>\n",
       "      <td>1</td>\n",
       "      <td>2008</td>\n",
       "      <td>7</td>\n",
       "    </tr>\n",
       "    <tr>\n",
       "      <th>3</th>\n",
       "      <td>[2008, 07]</td>\n",
       "      <td>Calaveras County</td>\n",
       "      <td>96.419355</td>\n",
       "      <td>51.290323</td>\n",
       "      <td>87.032258</td>\n",
       "      <td>0.0</td>\n",
       "      <td>33.580645</td>\n",
       "      <td>5.387097</td>\n",
       "      <td>0.0</td>\n",
       "      <td>65.217204</td>\n",
       "      <td>38.434409</td>\n",
       "      <td>0.068065</td>\n",
       "      <td>14.022581</td>\n",
       "      <td>14.0</td>\n",
       "      <td>101.074150</td>\n",
       "      <td>1</td>\n",
       "      <td>2008</td>\n",
       "      <td>7</td>\n",
       "    </tr>\n",
       "    <tr>\n",
       "      <th>4</th>\n",
       "      <td>[2008, 07]</td>\n",
       "      <td>Calaveras County</td>\n",
       "      <td>96.419355</td>\n",
       "      <td>51.290323</td>\n",
       "      <td>87.032258</td>\n",
       "      <td>0.0</td>\n",
       "      <td>33.580645</td>\n",
       "      <td>5.387097</td>\n",
       "      <td>0.0</td>\n",
       "      <td>65.217204</td>\n",
       "      <td>38.434409</td>\n",
       "      <td>0.068065</td>\n",
       "      <td>14.022581</td>\n",
       "      <td>6.0</td>\n",
       "      <td>103.968050</td>\n",
       "      <td>1</td>\n",
       "      <td>2008</td>\n",
       "      <td>7</td>\n",
       "    </tr>\n",
       "  </tbody>\n",
       "</table>\n",
       "</div>"
      ],
      "text/plain": [
       "         date                county   maxtempF   mintempF   avgtempF  \\\n",
       "0  [2008, 07]  Santa Barbara County  89.129032  59.709677  80.548387   \n",
       "1  [2008, 07]      Calaveras County  96.419355  51.290323  87.032258   \n",
       "2  [2008, 07]      Calaveras County  96.419355  51.290323  87.032258   \n",
       "3  [2008, 07]      Calaveras County  96.419355  51.290323  87.032258   \n",
       "4  [2008, 07]      Calaveras County  96.419355  51.290323  87.032258   \n",
       "\n",
       "   totalSnow      humid      wind  precip  q_avgtempF  q_avghumid  \\\n",
       "0        0.0  41.451613  7.354839     0.0   72.937634   34.079570   \n",
       "1        0.0  33.580645  5.387097     0.0   65.217204   38.434409   \n",
       "2        0.0  33.580645  5.387097     0.0   65.217204   38.434409   \n",
       "3        0.0  33.580645  5.387097     0.0   65.217204   38.434409   \n",
       "4        0.0  33.580645  5.387097     0.0   65.217204   38.434409   \n",
       "\n",
       "   q_sumprecip    sunHour  CAUSE   GIS_ACRES  bool  year  month  \n",
       "0     0.010000  13.164516    0.0    0.000000     0  2008      7  \n",
       "1     0.068065  14.022581    1.0  176.763400     1  2008      7  \n",
       "2     0.068065  14.022581   10.0   73.444778     1  2008      7  \n",
       "3     0.068065  14.022581   14.0  101.074150     1  2008      7  \n",
       "4     0.068065  14.022581    6.0  103.968050     1  2008      7  "
      ]
     },
     "execution_count": 7,
     "metadata": {},
     "output_type": "execute_result"
    }
   ],
   "source": [
    "df.head()"
   ]
  },
  {
   "cell_type": "markdown",
   "id": "ec20153b-4922-4888-ab5a-35175d4ea952",
   "metadata": {},
   "source": [
    "The only column that needed to be dummied was our `'month'` column"
   ]
  },
  {
   "cell_type": "code",
   "execution_count": 8,
   "id": "18ccd776-ef23-47d7-875c-47ce34e5c03a",
   "metadata": {},
   "outputs": [
    {
     "data": {
      "text/html": [
       "<div>\n",
       "<style scoped>\n",
       "    .dataframe tbody tr th:only-of-type {\n",
       "        vertical-align: middle;\n",
       "    }\n",
       "\n",
       "    .dataframe tbody tr th {\n",
       "        vertical-align: top;\n",
       "    }\n",
       "\n",
       "    .dataframe thead th {\n",
       "        text-align: right;\n",
       "    }\n",
       "</style>\n",
       "<table border=\"1\" class=\"dataframe\">\n",
       "  <thead>\n",
       "    <tr style=\"text-align: right;\">\n",
       "      <th></th>\n",
       "      <th>date</th>\n",
       "      <th>county</th>\n",
       "      <th>maxtempF</th>\n",
       "      <th>mintempF</th>\n",
       "      <th>avgtempF</th>\n",
       "      <th>totalSnow</th>\n",
       "      <th>humid</th>\n",
       "      <th>wind</th>\n",
       "      <th>precip</th>\n",
       "      <th>q_avgtempF</th>\n",
       "      <th>...</th>\n",
       "      <th>month_3</th>\n",
       "      <th>month_4</th>\n",
       "      <th>month_5</th>\n",
       "      <th>month_6</th>\n",
       "      <th>month_7</th>\n",
       "      <th>month_8</th>\n",
       "      <th>month_9</th>\n",
       "      <th>month_10</th>\n",
       "      <th>month_11</th>\n",
       "      <th>month_12</th>\n",
       "    </tr>\n",
       "  </thead>\n",
       "  <tbody>\n",
       "    <tr>\n",
       "      <th>0</th>\n",
       "      <td>[2008, 07]</td>\n",
       "      <td>Santa Barbara County</td>\n",
       "      <td>89.129032</td>\n",
       "      <td>59.709677</td>\n",
       "      <td>80.548387</td>\n",
       "      <td>0.0</td>\n",
       "      <td>41.451613</td>\n",
       "      <td>7.354839</td>\n",
       "      <td>0.0</td>\n",
       "      <td>72.937634</td>\n",
       "      <td>...</td>\n",
       "      <td>0</td>\n",
       "      <td>0</td>\n",
       "      <td>0</td>\n",
       "      <td>0</td>\n",
       "      <td>1</td>\n",
       "      <td>0</td>\n",
       "      <td>0</td>\n",
       "      <td>0</td>\n",
       "      <td>0</td>\n",
       "      <td>0</td>\n",
       "    </tr>\n",
       "    <tr>\n",
       "      <th>1</th>\n",
       "      <td>[2008, 07]</td>\n",
       "      <td>Calaveras County</td>\n",
       "      <td>96.419355</td>\n",
       "      <td>51.290323</td>\n",
       "      <td>87.032258</td>\n",
       "      <td>0.0</td>\n",
       "      <td>33.580645</td>\n",
       "      <td>5.387097</td>\n",
       "      <td>0.0</td>\n",
       "      <td>65.217204</td>\n",
       "      <td>...</td>\n",
       "      <td>0</td>\n",
       "      <td>0</td>\n",
       "      <td>0</td>\n",
       "      <td>0</td>\n",
       "      <td>1</td>\n",
       "      <td>0</td>\n",
       "      <td>0</td>\n",
       "      <td>0</td>\n",
       "      <td>0</td>\n",
       "      <td>0</td>\n",
       "    </tr>\n",
       "    <tr>\n",
       "      <th>2</th>\n",
       "      <td>[2008, 07]</td>\n",
       "      <td>Calaveras County</td>\n",
       "      <td>96.419355</td>\n",
       "      <td>51.290323</td>\n",
       "      <td>87.032258</td>\n",
       "      <td>0.0</td>\n",
       "      <td>33.580645</td>\n",
       "      <td>5.387097</td>\n",
       "      <td>0.0</td>\n",
       "      <td>65.217204</td>\n",
       "      <td>...</td>\n",
       "      <td>0</td>\n",
       "      <td>0</td>\n",
       "      <td>0</td>\n",
       "      <td>0</td>\n",
       "      <td>1</td>\n",
       "      <td>0</td>\n",
       "      <td>0</td>\n",
       "      <td>0</td>\n",
       "      <td>0</td>\n",
       "      <td>0</td>\n",
       "    </tr>\n",
       "    <tr>\n",
       "      <th>3</th>\n",
       "      <td>[2008, 07]</td>\n",
       "      <td>Calaveras County</td>\n",
       "      <td>96.419355</td>\n",
       "      <td>51.290323</td>\n",
       "      <td>87.032258</td>\n",
       "      <td>0.0</td>\n",
       "      <td>33.580645</td>\n",
       "      <td>5.387097</td>\n",
       "      <td>0.0</td>\n",
       "      <td>65.217204</td>\n",
       "      <td>...</td>\n",
       "      <td>0</td>\n",
       "      <td>0</td>\n",
       "      <td>0</td>\n",
       "      <td>0</td>\n",
       "      <td>1</td>\n",
       "      <td>0</td>\n",
       "      <td>0</td>\n",
       "      <td>0</td>\n",
       "      <td>0</td>\n",
       "      <td>0</td>\n",
       "    </tr>\n",
       "    <tr>\n",
       "      <th>4</th>\n",
       "      <td>[2008, 07]</td>\n",
       "      <td>Calaveras County</td>\n",
       "      <td>96.419355</td>\n",
       "      <td>51.290323</td>\n",
       "      <td>87.032258</td>\n",
       "      <td>0.0</td>\n",
       "      <td>33.580645</td>\n",
       "      <td>5.387097</td>\n",
       "      <td>0.0</td>\n",
       "      <td>65.217204</td>\n",
       "      <td>...</td>\n",
       "      <td>0</td>\n",
       "      <td>0</td>\n",
       "      <td>0</td>\n",
       "      <td>0</td>\n",
       "      <td>1</td>\n",
       "      <td>0</td>\n",
       "      <td>0</td>\n",
       "      <td>0</td>\n",
       "      <td>0</td>\n",
       "      <td>0</td>\n",
       "    </tr>\n",
       "  </tbody>\n",
       "</table>\n",
       "<p>5 rows × 29 columns</p>\n",
       "</div>"
      ],
      "text/plain": [
       "         date                county   maxtempF   mintempF   avgtempF  \\\n",
       "0  [2008, 07]  Santa Barbara County  89.129032  59.709677  80.548387   \n",
       "1  [2008, 07]      Calaveras County  96.419355  51.290323  87.032258   \n",
       "2  [2008, 07]      Calaveras County  96.419355  51.290323  87.032258   \n",
       "3  [2008, 07]      Calaveras County  96.419355  51.290323  87.032258   \n",
       "4  [2008, 07]      Calaveras County  96.419355  51.290323  87.032258   \n",
       "\n",
       "   totalSnow      humid      wind  precip  q_avgtempF  ...  month_3  month_4  \\\n",
       "0        0.0  41.451613  7.354839     0.0   72.937634  ...        0        0   \n",
       "1        0.0  33.580645  5.387097     0.0   65.217204  ...        0        0   \n",
       "2        0.0  33.580645  5.387097     0.0   65.217204  ...        0        0   \n",
       "3        0.0  33.580645  5.387097     0.0   65.217204  ...        0        0   \n",
       "4        0.0  33.580645  5.387097     0.0   65.217204  ...        0        0   \n",
       "\n",
       "   month_5  month_6  month_7  month_8  month_9  month_10  month_11  month_12  \n",
       "0        0        0        1        0        0         0         0         0  \n",
       "1        0        0        1        0        0         0         0         0  \n",
       "2        0        0        1        0        0         0         0         0  \n",
       "3        0        0        1        0        0         0         0         0  \n",
       "4        0        0        1        0        0         0         0         0  \n",
       "\n",
       "[5 rows x 29 columns]"
      ]
     },
     "execution_count": 8,
     "metadata": {},
     "output_type": "execute_result"
    }
   ],
   "source": [
    "df_dummy = pd.get_dummies(df, columns=['month'])\n",
    "df_dummy.head()"
   ]
  },
  {
   "cell_type": "markdown",
   "id": "13f82618-497e-4679-b22f-e7492aee38c9",
   "metadata": {},
   "source": [
    "We wanted to do a sanity check on our dtypes so we called a `.info()` and everything looked good."
   ]
  },
  {
   "cell_type": "code",
   "execution_count": 9,
   "id": "ef641c33-7dbe-433d-bda1-a9383d8d7590",
   "metadata": {},
   "outputs": [
    {
     "name": "stdout",
     "output_type": "stream",
     "text": [
      "<class 'pandas.core.frame.DataFrame'>\n",
      "RangeIndex: 10988 entries, 0 to 10987\n",
      "Data columns (total 29 columns):\n",
      " #   Column       Non-Null Count  Dtype  \n",
      "---  ------       --------------  -----  \n",
      " 0   date         10988 non-null  object \n",
      " 1   county       10988 non-null  object \n",
      " 2   maxtempF     10988 non-null  float64\n",
      " 3   mintempF     10988 non-null  float64\n",
      " 4   avgtempF     10988 non-null  float64\n",
      " 5   totalSnow    10988 non-null  float64\n",
      " 6   humid        10988 non-null  float64\n",
      " 7   wind         10988 non-null  float64\n",
      " 8   precip       10988 non-null  float64\n",
      " 9   q_avgtempF   10988 non-null  float64\n",
      " 10  q_avghumid   10988 non-null  float64\n",
      " 11  q_sumprecip  10988 non-null  float64\n",
      " 12  sunHour      10988 non-null  float64\n",
      " 13  CAUSE        10988 non-null  float64\n",
      " 14  GIS_ACRES    10988 non-null  float64\n",
      " 15  bool         10988 non-null  int32  \n",
      " 16  year         10988 non-null  int64  \n",
      " 17  month_1      10988 non-null  uint8  \n",
      " 18  month_2      10988 non-null  uint8  \n",
      " 19  month_3      10988 non-null  uint8  \n",
      " 20  month_4      10988 non-null  uint8  \n",
      " 21  month_5      10988 non-null  uint8  \n",
      " 22  month_6      10988 non-null  uint8  \n",
      " 23  month_7      10988 non-null  uint8  \n",
      " 24  month_8      10988 non-null  uint8  \n",
      " 25  month_9      10988 non-null  uint8  \n",
      " 26  month_10     10988 non-null  uint8  \n",
      " 27  month_11     10988 non-null  uint8  \n",
      " 28  month_12     10988 non-null  uint8  \n",
      "dtypes: float64(13), int32(1), int64(1), object(2), uint8(12)\n",
      "memory usage: 1.5+ MB\n"
     ]
    }
   ],
   "source": [
    "df_dummy.info()"
   ]
  },
  {
   "cell_type": "markdown",
   "id": "74a7547f-0440-49d7-97c4-86b2f78c868b",
   "metadata": {
    "tags": []
   },
   "source": [
    "### Modeling\n",
    "---"
   ]
  },
  {
   "cell_type": "markdown",
   "id": "1f2fc663-7ac3-48bf-8472-7e8db6d32765",
   "metadata": {},
   "source": [
    "#### Considerations:\n",
    "\n",
    "We did a lot of tweaking, exploration, and testing to come to the conclusion of which features to keep.  We also used some common sense and domain knowledge:\n",
    "\n",
    "1. q_avgtempF, q_avghumid, q_sumprecip - We used our monthly value columns to provide more granularity.\n",
    "2. maxtempF, mintempF - Average temp provides a better smoother outlook on overall temp\n",
    "3. county - This one took some consideration.  Counties seemed to be a feature that has too much colinearity to our weather since a county's weather is directly tied to its location.  It appeared as though including county artificially inflated our results so we decided to omit it from our models.  Obviously a coutny in the desert is going to me much less likely to have a forest fire than a county in heavily forested mountains."
   ]
  },
  {
   "cell_type": "code",
   "execution_count": 10,
   "id": "9964fafa-e2d0-455f-849b-e1e52ab7f692",
   "metadata": {},
   "outputs": [],
   "source": [
    "X = df_dummy.drop(columns=['GIS_ACRES', 'date', 'q_avgtempF', 'q_avghumid', 'q_sumprecip', 'maxtempF', 'mintempF', 'CAUSE', 'bool', 'county'])\n",
    "y = df_dummy['bool']\n",
    "\n",
    "X_train, X_test, y_train, y_test = train_test_split(X, y, random_state=42, test_size=0.3)"
   ]
  },
  {
   "cell_type": "markdown",
   "id": "f4f5cf32-f16b-4904-ac11-2782a2298001",
   "metadata": {},
   "source": [
    "#### Null Model:\n",
    "\n",
    "By finding the average of our bool column we came up with our null model.  If we predicted a fire would happen for every prediction, we would be correct 36% of the time."
   ]
  },
  {
   "cell_type": "code",
   "execution_count": 11,
   "id": "25acb2f5-098d-4102-9c44-9a197c123a82",
   "metadata": {},
   "outputs": [
    {
     "data": {
      "text/plain": [
       "0    0.638424\n",
       "1    0.361576\n",
       "Name: bool, dtype: float64"
      ]
     },
     "execution_count": 11,
     "metadata": {},
     "output_type": "execute_result"
    }
   ],
   "source": [
    "df['bool'].value_counts(normalize=True)"
   ]
  },
  {
   "cell_type": "markdown",
   "id": "483ba0a1-7ec2-483d-8392-39ae9feb9220",
   "metadata": {},
   "source": [
    "#### Logistic Regression:\n",
    "We wanted to start with a basic model first to see how we would do.  Our test accuracy was 76% with slight underfitting.  We tried playing with our alpha and regularization but neither increased performance.  We increased our max iterations to reach our convergance. "
   ]
  },
  {
   "cell_type": "code",
   "execution_count": 12,
   "id": "4afbe9ca-2599-4f32-b7f4-a3ec66519b1d",
   "metadata": {},
   "outputs": [
    {
     "name": "stdout",
     "output_type": "stream",
     "text": [
      "0.7546482902093355\n"
     ]
    },
    {
     "data": {
      "text/plain": [
       "0.7667576584774037"
      ]
     },
     "execution_count": 12,
     "metadata": {},
     "output_type": "execute_result"
    }
   ],
   "source": [
    "log_reg = LogisticRegression(max_iter=1000)\n",
    "log_reg.fit(X_train, y_train)\n",
    "print(log_reg.score(X_train, y_train))\n",
    "log_reg.score(X_test, y_test)"
   ]
  },
  {
   "cell_type": "markdown",
   "id": "34468bd9-80aa-4f7a-8736-7bd67944431a",
   "metadata": {},
   "source": [
    "We wanted to inspect our coefficients and were disappointed to see that months weighed more heavily on our predictions than the weather data Jeff spent so much time scraping and processing.\n",
    "\n",
    "- 1.09x likelier to have a fire in August\n",
    "- .69x likelier to have a fire in September\n",
    "- .51x likelier to have a fire in when sunhours increase by 1\n",
    "- .64x LESS likely to have a fire in February\n",
    "- .50x LESS likely to have a fire in March\n",
    "- .48x LESS likely to have a fire in May"
   ]
  },
  {
   "cell_type": "code",
   "execution_count": 13,
   "id": "ff5f8af5-b3c6-455b-a5e1-df59e1d3087d",
   "metadata": {},
   "outputs": [
    {
     "data": {
      "text/html": [
       "<div>\n",
       "<style scoped>\n",
       "    .dataframe tbody tr th:only-of-type {\n",
       "        vertical-align: middle;\n",
       "    }\n",
       "\n",
       "    .dataframe tbody tr th {\n",
       "        vertical-align: top;\n",
       "    }\n",
       "\n",
       "    .dataframe thead th {\n",
       "        text-align: right;\n",
       "    }\n",
       "</style>\n",
       "<table border=\"1\" class=\"dataframe\">\n",
       "  <thead>\n",
       "    <tr style=\"text-align: right;\">\n",
       "      <th></th>\n",
       "      <th>0</th>\n",
       "    </tr>\n",
       "  </thead>\n",
       "  <tbody>\n",
       "    <tr>\n",
       "      <th>month_8</th>\n",
       "      <td>1.086756</td>\n",
       "    </tr>\n",
       "    <tr>\n",
       "      <th>month_9</th>\n",
       "      <td>0.693699</td>\n",
       "    </tr>\n",
       "    <tr>\n",
       "      <th>sunHour</th>\n",
       "      <td>0.514530</td>\n",
       "    </tr>\n",
       "    <tr>\n",
       "      <th>month_11</th>\n",
       "      <td>0.425236</td>\n",
       "    </tr>\n",
       "    <tr>\n",
       "      <th>month_7</th>\n",
       "      <td>0.371391</td>\n",
       "    </tr>\n",
       "    <tr>\n",
       "      <th>month_12</th>\n",
       "      <td>0.213089</td>\n",
       "    </tr>\n",
       "    <tr>\n",
       "      <th>totalSnow</th>\n",
       "      <td>0.020792</td>\n",
       "    </tr>\n",
       "    <tr>\n",
       "      <th>year</th>\n",
       "      <td>-0.001681</td>\n",
       "    </tr>\n",
       "    <tr>\n",
       "      <th>avgtempF</th>\n",
       "      <td>-0.007130</td>\n",
       "    </tr>\n",
       "    <tr>\n",
       "      <th>month_10</th>\n",
       "      <td>-0.024007</td>\n",
       "    </tr>\n",
       "    <tr>\n",
       "      <th>humid</th>\n",
       "      <td>-0.024876</td>\n",
       "    </tr>\n",
       "    <tr>\n",
       "      <th>precip</th>\n",
       "      <td>-0.196441</td>\n",
       "    </tr>\n",
       "    <tr>\n",
       "      <th>month_6</th>\n",
       "      <td>-0.220802</td>\n",
       "    </tr>\n",
       "    <tr>\n",
       "      <th>wind</th>\n",
       "      <td>-0.285084</td>\n",
       "    </tr>\n",
       "    <tr>\n",
       "      <th>month_4</th>\n",
       "      <td>-0.437902</td>\n",
       "    </tr>\n",
       "    <tr>\n",
       "      <th>month_1</th>\n",
       "      <td>-0.486545</td>\n",
       "    </tr>\n",
       "    <tr>\n",
       "      <th>month_5</th>\n",
       "      <td>-0.488479</td>\n",
       "    </tr>\n",
       "    <tr>\n",
       "      <th>month_3</th>\n",
       "      <td>-0.497280</td>\n",
       "    </tr>\n",
       "    <tr>\n",
       "      <th>month_2</th>\n",
       "      <td>-0.643566</td>\n",
       "    </tr>\n",
       "  </tbody>\n",
       "</table>\n",
       "</div>"
      ],
      "text/plain": [
       "                  0\n",
       "month_8    1.086756\n",
       "month_9    0.693699\n",
       "sunHour    0.514530\n",
       "month_11   0.425236\n",
       "month_7    0.371391\n",
       "month_12   0.213089\n",
       "totalSnow  0.020792\n",
       "year      -0.001681\n",
       "avgtempF  -0.007130\n",
       "month_10  -0.024007\n",
       "humid     -0.024876\n",
       "precip    -0.196441\n",
       "month_6   -0.220802\n",
       "wind      -0.285084\n",
       "month_4   -0.437902\n",
       "month_1   -0.486545\n",
       "month_5   -0.488479\n",
       "month_3   -0.497280\n",
       "month_2   -0.643566"
      ]
     },
     "execution_count": 13,
     "metadata": {},
     "output_type": "execute_result"
    }
   ],
   "source": [
    "coef_df = pd.DataFrame(log_reg.coef_, columns=X.columns)\n",
    "coef_df.T.sort_values(by=0, ascending=False).head(25)"
   ]
  },
  {
   "cell_type": "markdown",
   "id": "e173c34b-4c66-407f-ab7f-c65367fa185c",
   "metadata": {},
   "source": [
    "#### KNN Model:\n",
    "\n",
    "The next model we wanted to try was a KNN model.  After some paramter experimentation we discovered our ideal neighbors was 3 and best weights were tuned to distance.\n",
    "\n",
    "Both models performed much better than our logistic regression achieving an 84% accuracy on our test data, with our training score being unsurprisingly overfit.\n",
    "\n",
    "Unfortunately KNN is a black box method so we cannot extract our features or coefficients."
   ]
  },
  {
   "cell_type": "code",
   "execution_count": 14,
   "id": "1da6ec89-d91b-467a-9765-832ae93589c9",
   "metadata": {},
   "outputs": [],
   "source": [
    "sc = StandardScaler()\n",
    "X_train_sc = sc.fit_transform(X_train)\n",
    "X_test_sc = sc.transform(X_test)"
   ]
  },
  {
   "cell_type": "code",
   "execution_count": 15,
   "id": "8610e030-e1b3-4937-abdb-f49ec296fcdc",
   "metadata": {},
   "outputs": [
    {
     "name": "stdout",
     "output_type": "stream",
     "text": [
      "0.9986997789624236\n"
     ]
    },
    {
     "data": {
      "text/plain": [
       "0.8495602062481044"
      ]
     },
     "execution_count": 15,
     "metadata": {},
     "output_type": "execute_result"
    }
   ],
   "source": [
    "knn = KNeighborsClassifier(n_neighbors=3, weights='distance')\n",
    "knn.fit(X_train_sc, y_train)\n",
    "print(knn.score(X_train_sc, y_train))\n",
    "knn.score(X_test_sc, y_test)"
   ]
  },
  {
   "cell_type": "markdown",
   "id": "c7838383-ea70-4ea5-b5df-c152a8f2237f",
   "metadata": {},
   "source": [
    "#### Random Forest Model:\n",
    "\n",
    "We decided to also incorporate a Random Forest Classifier.  The best params after experimentation were n_estimators at 150 and max_depth set to 15, which is deep, but not insane.  \n",
    "\n",
    "This model is our best so far scoring 88% accuracy."
   ]
  },
  {
   "cell_type": "code",
   "execution_count": 16,
   "id": "53c37ce4-5f08-4fd6-93de-479c4c59d5bc",
   "metadata": {},
   "outputs": [
    {
     "name": "stdout",
     "output_type": "stream",
     "text": [
      "0.9838772591340528\n"
     ]
    },
    {
     "data": {
      "text/plain": [
       "0.8801941158629056"
      ]
     },
     "execution_count": 16,
     "metadata": {},
     "output_type": "execute_result"
    }
   ],
   "source": [
    "rf = RandomForestClassifier(n_estimators=150, max_depth=15)\n",
    "rf.fit(X_train, y_train)\n",
    "print(rf.score(X_train, y_train))\n",
    "rf.score(X_test, y_test)"
   ]
  },
  {
   "cell_type": "markdown",
   "id": "25f6a282-9b54-4601-a362-169789bfdbd0",
   "metadata": {},
   "source": [
    "We wanted to examine our feature importance here.  Unfortunately these are difficult to interpret was well, however, we can get a general order of importance in the below dataframe.  Finally we have a model that seems to utilize our weather data!"
   ]
  },
  {
   "cell_type": "code",
   "execution_count": 17,
   "id": "800491df-7fac-43b9-99bd-47e97957f748",
   "metadata": {},
   "outputs": [
    {
     "data": {
      "text/html": [
       "<div>\n",
       "<style scoped>\n",
       "    .dataframe tbody tr th:only-of-type {\n",
       "        vertical-align: middle;\n",
       "    }\n",
       "\n",
       "    .dataframe tbody tr th {\n",
       "        vertical-align: top;\n",
       "    }\n",
       "\n",
       "    .dataframe thead th {\n",
       "        text-align: right;\n",
       "    }\n",
       "</style>\n",
       "<table border=\"1\" class=\"dataframe\">\n",
       "  <thead>\n",
       "    <tr style=\"text-align: right;\">\n",
       "      <th></th>\n",
       "      <th>0</th>\n",
       "    </tr>\n",
       "  </thead>\n",
       "  <tbody>\n",
       "    <tr>\n",
       "      <th>sunHour</th>\n",
       "      <td>0.214378</td>\n",
       "    </tr>\n",
       "    <tr>\n",
       "      <th>avgtempF</th>\n",
       "      <td>0.208380</td>\n",
       "    </tr>\n",
       "    <tr>\n",
       "      <th>humid</th>\n",
       "      <td>0.179891</td>\n",
       "    </tr>\n",
       "    <tr>\n",
       "      <th>wind</th>\n",
       "      <td>0.133462</td>\n",
       "    </tr>\n",
       "    <tr>\n",
       "      <th>precip</th>\n",
       "      <td>0.093148</td>\n",
       "    </tr>\n",
       "    <tr>\n",
       "      <th>year</th>\n",
       "      <td>0.069043</td>\n",
       "    </tr>\n",
       "    <tr>\n",
       "      <th>month_7</th>\n",
       "      <td>0.021880</td>\n",
       "    </tr>\n",
       "    <tr>\n",
       "      <th>totalSnow</th>\n",
       "      <td>0.015463</td>\n",
       "    </tr>\n",
       "    <tr>\n",
       "      <th>month_8</th>\n",
       "      <td>0.013341</td>\n",
       "    </tr>\n",
       "    <tr>\n",
       "      <th>month_9</th>\n",
       "      <td>0.009870</td>\n",
       "    </tr>\n",
       "    <tr>\n",
       "      <th>month_5</th>\n",
       "      <td>0.007348</td>\n",
       "    </tr>\n",
       "    <tr>\n",
       "      <th>month_6</th>\n",
       "      <td>0.006883</td>\n",
       "    </tr>\n",
       "    <tr>\n",
       "      <th>month_10</th>\n",
       "      <td>0.006548</td>\n",
       "    </tr>\n",
       "    <tr>\n",
       "      <th>month_4</th>\n",
       "      <td>0.006074</td>\n",
       "    </tr>\n",
       "    <tr>\n",
       "      <th>month_12</th>\n",
       "      <td>0.003550</td>\n",
       "    </tr>\n",
       "    <tr>\n",
       "      <th>month_1</th>\n",
       "      <td>0.003231</td>\n",
       "    </tr>\n",
       "    <tr>\n",
       "      <th>month_11</th>\n",
       "      <td>0.002958</td>\n",
       "    </tr>\n",
       "    <tr>\n",
       "      <th>month_3</th>\n",
       "      <td>0.002390</td>\n",
       "    </tr>\n",
       "    <tr>\n",
       "      <th>month_2</th>\n",
       "      <td>0.002162</td>\n",
       "    </tr>\n",
       "  </tbody>\n",
       "</table>\n",
       "</div>"
      ],
      "text/plain": [
       "                  0\n",
       "sunHour    0.214378\n",
       "avgtempF   0.208380\n",
       "humid      0.179891\n",
       "wind       0.133462\n",
       "precip     0.093148\n",
       "year       0.069043\n",
       "month_7    0.021880\n",
       "totalSnow  0.015463\n",
       "month_8    0.013341\n",
       "month_9    0.009870\n",
       "month_5    0.007348\n",
       "month_6    0.006883\n",
       "month_10   0.006548\n",
       "month_4    0.006074\n",
       "month_12   0.003550\n",
       "month_1    0.003231\n",
       "month_11   0.002958\n",
       "month_3    0.002390\n",
       "month_2    0.002162"
      ]
     },
     "execution_count": 17,
     "metadata": {},
     "output_type": "execute_result"
    }
   ],
   "source": [
    "feature_df = pd.DataFrame(rf.feature_importances_, index=X.columns)\n",
    "feature_df.sort_values(by=0, ascending=False)"
   ]
  },
  {
   "cell_type": "markdown",
   "id": "853210d6-f1f5-44e9-a44b-897beaef0d5b",
   "metadata": {},
   "source": [
    "#### Voting Classifier:\n",
    "\n",
    "The last model we wanted to try was a voting classifier utilizing KNN, Random Forest, and Ada Boost classifiers.  This model performed marginally worse than our previous Random Forest getting an accuracy score of 87%."
   ]
  },
  {
   "cell_type": "code",
   "execution_count": 18,
   "id": "37c433fc-477b-4c1c-9088-8426750d9b14",
   "metadata": {},
   "outputs": [
    {
     "name": "stdout",
     "output_type": "stream",
     "text": [
      "Train Score:\t0.9835\n",
      "Test Score:\t0.8726\n"
     ]
    }
   ],
   "source": [
    "knn_pipe = Pipeline([\n",
    "    ('sc', StandardScaler()),\n",
    "    ('knn', KNeighborsClassifier(n_neighbors=3, weights='distance')),\n",
    "])\n",
    "\n",
    "vote = VotingClassifier([\n",
    "    ('knn_pipe', knn_pipe),\n",
    "    ('rf', RandomForestClassifier(n_estimators=150, max_depth=15)),\n",
    "    ('ada', AdaBoostClassifier(n_estimators=150))\n",
    "])\n",
    "\n",
    "vote.fit(X_train, y_train)\n",
    "\n",
    "print(f\"Train Score:\\t{vote.score(X_train, y_train):.4f}\")\n",
    "print(f\"Test Score:\\t{vote.score(X_test, y_test):.4f}\")"
   ]
  },
  {
   "cell_type": "markdown",
   "id": "1ca282d9-3ef5-4c20-a9b9-508a5474fa5d",
   "metadata": {},
   "source": [
    "We wanted to create a confusion matrix to visualize how our model preformed. Part of our problem statement is juggling recall and precision, whether local governments have the resources to handle over-preparing or if they need to focus only on areas that have the overall highest likelihood to have a fire.\n",
    "\n",
    "The Random Forest model has balanced recall to precision but the Voting Classifier has higher recall and lower precision.\n",
    "\n",
    "- Random Forest accuracy: 88%\n",
    "- Random Forest recall: 83.4%\n",
    "- Random Forest precision: 84%\n",
    "\n",
    "- Voting Classifier accuracy: 87.2%\n",
    "- Voting Classifier recall: 86%\n",
    "- Voting Classifier precision: 80.4%"
   ]
  },
  {
   "cell_type": "markdown",
   "id": "9cdb865b-91c8-4ed9-b470-c9d77fd2998e",
   "metadata": {},
   "source": [
    "### Model Evaluation and Metrics:\n",
    "---"
   ]
  },
  {
   "cell_type": "code",
   "execution_count": 19,
   "id": "96e23bbe-9d49-47ed-965d-08a71964d203",
   "metadata": {},
   "outputs": [
    {
     "data": {
      "image/png": "[encoded data removed]",
      "text/plain": [
       "<Figure size 432x288 with 2 Axes>"
      ]
     },
     "metadata": {
      "needs_background": "light"
     },
     "output_type": "display_data"
    }
   ],
   "source": [
    "tn, fp, fn, tp = metrics.confusion_matrix(y_test, vote.predict(X_test)).ravel()\n",
    "metrics.plot_confusion_matrix(vote, X_test, y_test, cmap='Oranges', display_labels=['No fire', 'Fire']);"
   ]
  },
  {
   "cell_type": "code",
   "execution_count": 20,
   "id": "d4cc9a71-d4b1-4189-96de-cfb7b4725d6e",
   "metadata": {},
   "outputs": [],
   "source": [
    "rf_preds = rf.predict(X_test)"
   ]
  },
  {
   "cell_type": "code",
   "execution_count": 21,
   "id": "1d179ce8-2096-4e36-8382-c13c2c8ab61a",
   "metadata": {},
   "outputs": [
    {
     "data": {
      "image/png": "[encoded data removed]",
      "text/plain": [
       "<Figure size 432x288 with 2 Axes>"
      ]
     },
     "metadata": {
      "needs_background": "light"
     },
     "output_type": "display_data"
    }
   ],
   "source": [
    "tn, fp, fn, tp = metrics.confusion_matrix(y_test, rf_preds).ravel()\n",
    "metrics.plot_confusion_matrix(rf, X_test, y_test, cmap='Oranges', display_labels=['No fire', 'Fire']);"
   ]
  },
  {
   "cell_type": "code",
   "execution_count": 31,
   "id": "ae82a126-46d1-4063-8a97-f2b910d96000",
   "metadata": {},
   "outputs": [
    {
     "name": "stdout",
     "output_type": "stream",
     "text": [
      "Log reg roc: 0.751328959388623\n",
      "Log reg recall: 0.6947456213511259\n",
      "Log reg precision: 0.6739482200647249\n"
     ]
    }
   ],
   "source": [
    "log_reg_preds = log_reg.predict(X_test)\n",
    "print('Log reg roc auc:', metrics.roc_auc_score(y_test, log_reg_preds))\n",
    "print('Log reg recall:', metrics.recall_score(y_test, log_reg_preds))\n",
    "print('Log reg precision:', metrics.precision_score(y_test, log_reg_preds))"
   ]
  },
  {
   "cell_type": "code",
   "execution_count": 32,
   "id": "d478fb3c-5577-480c-877e-728c8ff87485",
   "metadata": {},
   "outputs": [
    {
     "name": "stdout",
     "output_type": "stream",
     "text": [
      "RF roc: 0.87083910090312\n",
      "RF Recall: 0.8365304420350292\n",
      "RF Precision: 0.8344425956738769\n"
     ]
    }
   ],
   "source": [
    "print('RF roc auc:', metrics.roc_auc_score(y_test, rf_preds))\n",
    "print('RF Recall:', metrics.recall_score(y_test, rf_preds))\n",
    "print('RF Precision:', metrics.precision_score(y_test, rf_preds))"
   ]
  },
  {
   "cell_type": "code",
   "execution_count": 33,
   "id": "b5d0a0a5-6798-4901-81f3-329728f7da76",
   "metadata": {},
   "outputs": [
    {
     "name": "stdout",
     "output_type": "stream",
     "text": [
      "Voting roc auc: 0.8689909608499615\n",
      "Voting recall: 0.8557130942452044\n",
      "Voting precision: 0.8059701492537313\n"
     ]
    }
   ],
   "source": [
    "vote_preds = vote.predict(X_test)\n",
    "print('Voting roc auc:', metrics.roc_auc_score(y_test, vote_preds))\n",
    "print('Voting recall:', metrics.recall_score(y_test, vote_preds))\n",
    "print('Voting precision:', metrics.precision_score(y_test, vote_preds))"
   ]
  },
  {
   "cell_type": "markdown",
   "id": "d6975ed4-bf03-484a-9aa2-fac7bd34797a",
   "metadata": {},
   "source": [
    "The roc curve of our Random Forest looks pretty darn good! Logisitic regression is ok and KNN is not good."
   ]
  },
  {
   "cell_type": "code",
   "execution_count": 25,
   "id": "fb59202f-a60b-447c-a97e-2439aae10a14",
   "metadata": {},
   "outputs": [
    {
     "data": {
      "image/png": "[encoded data removed]",
      "text/plain": [
       "<Figure size 432x288 with 1 Axes>"
      ]
     },
     "metadata": {
      "needs_background": "light"
     },
     "output_type": "display_data"
    }
   ],
   "source": [
    "metrics.plot_roc_curve(rf, X_test, y_test, name='Random Forest ROC Curve');"
   ]
  },
  {
   "cell_type": "code",
   "execution_count": 26,
   "id": "c8f70428-350a-45a0-bd6b-e8fdd1ff36a9",
   "metadata": {},
   "outputs": [
    {
     "data": {
      "image/png": "[encoded data removed]",
      "text/plain": [
       "<Figure size 432x288 with 1 Axes>"
      ]
     },
     "metadata": {
      "needs_background": "light"
     },
     "output_type": "display_data"
    }
   ],
   "source": [
    "metrics.plot_roc_curve(log_reg, X_test, y_test, name='Logistic Regression ROC Curve');"
   ]
  },
  {
   "cell_type": "code",
   "execution_count": 27,
   "id": "56f7ae55-450f-4b7f-8bd3-732be6b5a410",
   "metadata": {},
   "outputs": [
    {
     "data": {
      "image/png": "[encoded data removed]",
      "text/plain": [
       "<Figure size 432x288 with 1 Axes>"
      ]
     },
     "metadata": {
      "needs_background": "light"
     },
     "output_type": "display_data"
    }
   ],
   "source": [
    "metrics.plot_roc_curve(knn, X_test, y_test, name='KNN ROC Curve');"
   ]
  }
 ],
 "metadata": {
  "kernelspec": {
   "display_name": "Python [conda env:dsi] *",
   "language": "python",
   "name": "conda-env-dsi-py"
  },
  "language_info": {
   "codemirror_mode": {
    "name": "ipython",
    "version": 3
   },
   "file_extension": ".py",
   "mimetype": "text/x-python",
   "name": "python",
   "nbconvert_exporter": "python",
   "pygments_lexer": "ipython3",
   "version": "3.8.8"
  }
 },
 "nbformat": 4,
 "nbformat_minor": 5
}
