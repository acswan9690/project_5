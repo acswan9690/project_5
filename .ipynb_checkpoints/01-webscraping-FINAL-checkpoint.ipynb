{
 "cells": [
  {
   "cell_type": "code",
   "execution_count": null,
   "id": "2ad81578-6d46-4a24-8ea2-698afe0392f7",
   "metadata": {},
   "outputs": [],
   "source": [
    "import requests\n",
    "import pandas as pd\n",
    "import time\n",
    "from IPython.display import clear_output"
   ]
  },
  {
   "cell_type": "markdown",
   "id": "1368fa70-2a5e-4cac-a58c-f654d67e1568",
   "metadata": {},
   "source": [
    "## Fire Data"
   ]
  },
  {
   "cell_type": "code",
   "execution_count": null,
   "id": "476eae40-2b09-47f5-87d0-f5baa2fcf8a8",
   "metadata": {},
   "outputs": [],
   "source": [
    "url = 'https://egis.fire.ca.gov/arcgis/rest/services/FRAP/FirePerimeters_FS/FeatureServer/0/query?where=1%3D1&outFields=*&outSR=4326&f=json'\n",
    "res = requests.get(url)\n",
    "data = res.json()"
   ]
  },
  {
   "cell_type": "code",
   "execution_count": null,
   "id": "39f5fa09-dec3-4121-8d33-4bfeffe3cf0c",
   "metadata": {},
   "outputs": [],
   "source": [
    "list_of_records = []\n",
    "list_of_features = data['features'][0]['attributes'].keys()\n",
    "for index, value in enumerate(data['features']):\n",
    "    list_of_records.append(data['features'][index]['attributes'].values())\n",
    "    \n",
    "df = pd.DataFrame(list_of_records, columns = list_of_features)\n",
    "df.to_csv('./data/raw_fires.csv')"
   ]
  },
  {
   "cell_type": "code",
   "execution_count": null,
   "id": "ff6f5e20-6f12-4a9c-ac23-35548a5b2d30",
   "metadata": {},
   "outputs": [],
   "source": []
  },
  {
   "cell_type": "markdown",
   "id": "1b7a5157-3f01-4308-8fb2-b66c8425a503",
   "metadata": {},
   "source": [
    "## County Location Data\n",
    "\n",
    "The following cell needs citation:"
   ]
  },
  {
   "cell_type": "code",
   "execution_count": null,
   "id": "491d5c83-c344-49f9-a3da-2ef476f7bf92",
   "metadata": {},
   "outputs": [],
   "source": [
    "counties = pd.read_csv('data/CA_Counties_Location.csv')\n",
    "location = counties[['NAMELSAD', 'INTPTLAT', 'INTPTLON']]"
   ]
  },
  {
   "cell_type": "markdown",
   "id": "d9d386dc-ec2c-4787-a0e6-d077cb1a764a",
   "metadata": {},
   "source": [
    "## California Weather Data"
   ]
  },
  {
   "cell_type": "code",
   "execution_count": null,
   "id": "6e7acc6e-eb54-4ca1-842b-180be715b063",
   "metadata": {},
   "outputs": [],
   "source": [
    "url = 'http://api.worldweatheronline.com/premium/v1/past-weather.ashx?key=5e420823e73c4bd591d195544212309'\n",
    "lats = list(location['INTPTLAT'])\n",
    "longs = list(location['INTPTLON'])\n",
    "years = list(range(2008, 2021))\n",
    "months = ['01', '02', '03', '04', '05', '06', '07', '08', '09', '10', '11', '12']\n",
    "days = [31, 28, 31, 30, 31, 30, 31, 31, 30, 31, 30, 31]"
   ]
  },
  {
   "cell_type": "code",
   "execution_count": null,
   "id": "98f2c7ba-85d3-4271-badb-144841378bea",
   "metadata": {},
   "outputs": [],
   "source": [
    "urls = []\n",
    "for year in years:\n",
    "    for i, month in enumerate(months):\n",
    "        if month > '06' or year > 2008:\n",
    "            for (j, lat) in enumerate(lats): \n",
    "                start_date = str(year)+ '-' + month + '-' + '01'\n",
    "                end_date = str(year)+ '-' + month + '-' + str(days[i])\n",
    "                long = longs[j]\n",
    "                url = 'http://api.worldweatheronline.com/premium/v1/past-weather.ashx?key=xxxxxxxxxxxxxxxxxxxxx'\n",
    "                url = url + '&format=json'\n",
    "                url = url + '&q=' + str(lat) + ',' + str(long)\n",
    "                url = url + '&tp=24'\n",
    "                url = url + '&date=' + start_date\n",
    "                url = url + '&enddate=' + end_date\n",
    "                urls.append(url)"
   ]
  },
  {
   "cell_type": "code",
   "execution_count": null,
   "id": "47095dcf-0e3f-4818-ad0c-f2e9fb3325d5",
   "metadata": {},
   "outputs": [],
   "source": [
    "list_of_features = list(data[0]['data']['weather'][0].keys())\n",
    "list_of_features.append('Lat and Long')"
   ]
  },
  {
   "cell_type": "code",
   "execution_count": null,
   "id": "3bea6105-21de-4d92-b7c9-b54b642e12bf",
   "metadata": {},
   "outputs": [],
   "source": [
    "list_of_records = []\n",
    "for i in range(len(data)):\n",
    "    for dictionary in data[i]['data']['weather']:\n",
    "        list_of_values = []\n",
    "        for value in dictionary.values():\n",
    "            list_of_values.append(value)\n",
    "        list_of_values.append(data[i]['data']['request'][0]['query'])\n",
    "        list_of_records.append(list_of_values)"
   ]
  },
  {
   "cell_type": "code",
   "execution_count": null,
   "id": "97378582-e353-4e83-9c9c-7f7749aa57e4",
   "metadata": {},
   "outputs": [],
   "source": [
    "df = pd.DataFrame(list_of_records, columns = list_of_features)\n",
    "df.to_csv('./data/2008-2020.csv')"
   ]
  }
 ],
 "metadata": {
  "kernelspec": {
   "display_name": "Python 3",
   "language": "python",
   "name": "python3"
  },
  "language_info": {
   "codemirror_mode": {
    "name": "ipython",
    "version": 3
   },
   "file_extension": ".py",
   "mimetype": "text/x-python",
   "name": "python",
   "nbconvert_exporter": "python",
   "pygments_lexer": "ipython3",
   "version": "3.8.8"
  }
 },
 "nbformat": 4,
 "nbformat_minor": 5
}
