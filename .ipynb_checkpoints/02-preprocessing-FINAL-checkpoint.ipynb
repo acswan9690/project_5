{
 "cells": [
  {
   "cell_type": "code",
   "execution_count": 1,
   "id": "2ade3e5a-7494-4804-bc43-d5c0a3f7413a",
   "metadata": {},
   "outputs": [],
   "source": [
    "import pandas as pd\n",
    "import numpy as np"
   ]
  },
  {
   "cell_type": "markdown",
   "id": "eaf2ed64-1698-43f6-a27c-4abc13240982",
   "metadata": {},
   "source": [
    "## Processing and Cleaning Fire Data"
   ]
  },
  {
   "cell_type": "code",
   "execution_count": 2,
   "id": "47ec2ae6-6f12-4868-9d02-1179b4783b92",
   "metadata": {},
   "outputs": [],
   "source": [
    "county_dict = {'NEU' : 'Yuba', 'BTU': 'Butte', 'CZU': 'San Mateo - Santa Cruz', 'MEU': 'Mendocino', 'HUU': 'Humboldt', 'TGU': 'Tehama - Glenn', 'ORC': 'Orange County', 'SKU': 'Siskiyou', 'TCU': 'Tuolumne - Calaveras',\n",
    "       'KRN': 'Kern', 'CND': 'Kern', 'MMU': 'Madera - Mariposa', 'SHF': 'Trinity', 'SHU': 'Shasta - Trinity', 'SBC': 'Santa Barbara', 'BDU': 'San Bernardino', 'SLU': 'San Luis Obispo', 'TUU': 'Tulare', \n",
    "       'AEU': 'Amador - El Dorado', 'FKU': 'Fresno - Kings', 'BEU': 'Monterey - San Benito', 'VNC': 'Ventura', 'SCU': 'Santa Clara', 'MVU': 'San Diego', 'RRU': 'Riverside', 'LAC': 'Los Angeles', 'ANF': 'Los Angeles',\n",
    "       'LNU': 'Sonoma Lake - Napa', 'MRN': 'Marin', 'MCP': 'San Diego', 'INF': 'Inyo', 'MDF': 'Modoc', 'TNF': 'Yuba', 'PNF': 'Plumas', 'LPF': 'Santa Barbara', 'KNF': 'Siksiyou',\n",
    "       'SQF': 'Fresno', 'ENF': 'El Dorado', 'SNF': 'Mariposa', 'HIA': 'Humboldt', 'MNF': 'Lake', 'STF': 'Tuolumne', 'BDF': 'San Bernadino', 'CNF': 'San Diego', 'MNP': 'San Bernardino',\n",
    "       'LNF': 'Lassen', 'CDD': 'Riverside', 'LMU': 'Lassen - Modoc', 'SRF': 'Del Norte', 'HTF': 'Humboldt', 'YNP': 'Mariposa', 'BNP': 'Siskiyou', 'KNP': 'Tulare', 'CNP': 'Ventura',\n",
    "       'RNP': 'Marin', 'CCD': 'Los Angeles', 'NOD': 'Shasta', 'BBD': 'Kern', 'TMU': 'Placer', 'TOI': 'Mono', 'SNU': 'Sonoma', 'DVP': 'Inyo',\n",
    "       'AFV': 'Santa Barbara', 'CRB': 'San Luis Obispo', 'SMP': 'Los Angeles', 'LDF': 'Los Angeles', 'FNF': 'Klamath', 'WED': 'Siskiyou', 'KRR': 'Kern',\n",
    "       'SWR': 'Sacramento', 'LUR': 'Merced', 'BRR': 'Kern', 'HPR': 'Ventura', 'PLR': 'Tulare', 'SOR': 'Imperial', 'TNR': 'San Diego', 'SJR': 'San Joaquin', 'CLR': 'Modoc',\n",
    "       'LKR': 'Klamath', 'RWP': 'Humboldt', 'LNP': 'Lassen', 'JTP': 'Riverside', 'GNP': 'Marin', 'PIP': 'San Benito', 'VLJ': 'Solano', 'RRS': 'Siskiyou'}"
   ]
  },
  {
   "cell_type": "code",
   "execution_count": 3,
   "id": "58a721c1-c6c4-475a-a55a-dfb16b157281",
   "metadata": {},
   "outputs": [
    {
     "ename": "NameError",
     "evalue": "name 'fire' is not defined",
     "output_type": "error",
     "traceback": [
      "\u001b[1;31m---------------------------------------------------------------------------\u001b[0m",
      "\u001b[1;31mNameError\u001b[0m                                 Traceback (most recent call last)",
      "\u001b[1;32m<ipython-input-3-dceeeeb83a86>\u001b[0m in \u001b[0;36m<module>\u001b[1;34m\u001b[0m\n\u001b[1;32m----> 1\u001b[1;33m \u001b[0mfire\u001b[0m\u001b[1;33m[\u001b[0m\u001b[1;34m'UNIT_ID'\u001b[0m\u001b[1;33m]\u001b[0m \u001b[1;33m=\u001b[0m \u001b[0mfire\u001b[0m\u001b[1;33m[\u001b[0m\u001b[1;34m'UNIT_ID'\u001b[0m\u001b[1;33m]\u001b[0m\u001b[1;33m.\u001b[0m\u001b[0mmap\u001b[0m\u001b[1;33m(\u001b[0m\u001b[0mcounty_dict\u001b[0m\u001b[1;33m)\u001b[0m\u001b[1;33m\u001b[0m\u001b[1;33m\u001b[0m\u001b[0m\n\u001b[0m",
      "\u001b[1;31mNameError\u001b[0m: name 'fire' is not defined"
     ]
    }
   ],
   "source": [
    "fire['UNIT_ID'] = fire['UNIT_ID'].map(county_dict)"
   ]
  },
  {
   "cell_type": "code",
   "execution_count": null,
   "id": "22b7d430-984b-41c4-aab4-1a02a0469a39",
   "metadata": {},
   "outputs": [],
   "source": [
    "fire['ALARM_DATE'] = pd.to_datetime(fire.ALARM_DATE, errors = 'coerce')"
   ]
  },
  {
   "cell_type": "code",
   "execution_count": null,
   "id": "5c59c07e-3170-4e5b-961c-4beeb9f4bda4",
   "metadata": {},
   "outputs": [],
   "source": [
    "fire_recent = fire.loc[fire.ALARM_DATE > '2008-07-01', :]"
   ]
  },
  {
   "cell_type": "code",
   "execution_count": null,
   "id": "7cf56c31-2ba5-48ad-9e80-d7f1a39869b1",
   "metadata": {},
   "outputs": [],
   "source": [
    "fire_recent.info()"
   ]
  },
  {
   "cell_type": "code",
   "execution_count": null,
   "id": "df014f35-0e5b-4a2c-9397-410670f893d1",
   "metadata": {},
   "outputs": [],
   "source": [
    "fire_recent.drop(columns = ['OBJECTID', 'YEAR_', 'STATE', 'AGENCY', 'INC_NUM', 'COMMENTS', 'C_METHOD', 'OBJECTIVE', 'FIRE_NUM'], inplace = True)"
   ]
  },
  {
   "cell_type": "code",
   "execution_count": null,
   "id": "f4329424-0828-40b2-a7eb-87820880150f",
   "metadata": {},
   "outputs": [],
   "source": [
    "fire_recent.info()"
   ]
  },
  {
   "cell_type": "code",
   "execution_count": null,
   "id": "85ae41f8-1c50-4c37-ae4e-5ca23cbb5ebb",
   "metadata": {},
   "outputs": [],
   "source": [
    "fire_recent.dropna(subset = ['UNIT_ID'], inplace = True)"
   ]
  },
  {
   "cell_type": "code",
   "execution_count": null,
   "id": "c82c9105-7195-4b61-897e-3be2e1030118",
   "metadata": {},
   "outputs": [],
   "source": [
    "fire_recent.info()"
   ]
  },
  {
   "cell_type": "markdown",
   "id": "fdf52e0a-7ff3-46e4-baa1-132ce4782dbf",
   "metadata": {},
   "source": [
    "## Processing and Cleaning Weather Data"
   ]
  },
  {
   "cell_type": "code",
   "execution_count": 4,
   "id": "248dc960-dd11-4f55-8cdf-b0817a2869ff",
   "metadata": {},
   "outputs": [],
   "source": [
    "fire = pd.read_csv('./data/fire_data.csv')\n",
    "weather = pd.read_csv('./data/weather_data.csv')"
   ]
  },
  {
   "cell_type": "code",
   "execution_count": 10,
   "id": "056812d5-3dd2-417a-ba47-f4a6a41ab530",
   "metadata": {},
   "outputs": [],
   "source": [
    "def remove_dash(x):\n",
    "    if '-' in x:\n",
    "        county = x.split('- ')\n",
    "        return county[1]\n",
    "    else:\n",
    "        return x\n",
    "        \n",
    "fire['UNIT_ID'] = fire['UNIT_ID'].apply(remove_dash)"
   ]
  },
  {
   "cell_type": "code",
   "execution_count": 12,
   "id": "fab43796-41ea-4a56-9d6b-b7c8147c3a29",
   "metadata": {},
   "outputs": [
    {
     "data": {
      "text/html": [
       "<div>\n",
       "<style scoped>\n",
       "    .dataframe tbody tr th:only-of-type {\n",
       "        vertical-align: middle;\n",
       "    }\n",
       "\n",
       "    .dataframe tbody tr th {\n",
       "        vertical-align: top;\n",
       "    }\n",
       "\n",
       "    .dataframe thead th {\n",
       "        text-align: right;\n",
       "    }\n",
       "</style>\n",
       "<table border=\"1\" class=\"dataframe\">\n",
       "  <thead>\n",
       "    <tr style=\"text-align: right;\">\n",
       "      <th></th>\n",
       "      <th>UNIT_ID</th>\n",
       "      <th>FIRE_NAME</th>\n",
       "      <th>ALARM_DATE</th>\n",
       "      <th>CONT_DATE</th>\n",
       "      <th>CAUSE</th>\n",
       "      <th>REPORT_AC</th>\n",
       "      <th>GIS_ACRES</th>\n",
       "      <th>SHAPE_Length</th>\n",
       "      <th>SHAPE_Area</th>\n",
       "    </tr>\n",
       "  </thead>\n",
       "  <tbody>\n",
       "    <tr>\n",
       "      <th>0</th>\n",
       "      <td>Yuba County</td>\n",
       "      <td>NELSON</td>\n",
       "      <td>2020-06</td>\n",
       "      <td>2020/06/23 00:00:00+00</td>\n",
       "      <td>11.0</td>\n",
       "      <td>110.0</td>\n",
       "      <td>109.60250</td>\n",
       "      <td>4179.743142</td>\n",
       "      <td>7.331347e+05</td>\n",
       "    </tr>\n",
       "    <tr>\n",
       "      <th>1</th>\n",
       "      <td>Yuba County</td>\n",
       "      <td>AMORUSO</td>\n",
       "      <td>2020-06</td>\n",
       "      <td>2020/06/04 00:00:00+00</td>\n",
       "      <td>2.0</td>\n",
       "      <td>670.0</td>\n",
       "      <td>685.58502</td>\n",
       "      <td>12399.375391</td>\n",
       "      <td>4.578172e+06</td>\n",
       "    </tr>\n",
       "    <tr>\n",
       "      <th>2</th>\n",
       "      <td>Yuba County</td>\n",
       "      <td>ATHENS</td>\n",
       "      <td>2020-08</td>\n",
       "      <td>2020/03/01 00:00:00+00</td>\n",
       "      <td>14.0</td>\n",
       "      <td>26.0</td>\n",
       "      <td>27.30048</td>\n",
       "      <td>2119.194120</td>\n",
       "      <td>1.823876e+05</td>\n",
       "    </tr>\n",
       "    <tr>\n",
       "      <th>3</th>\n",
       "      <td>Yuba County</td>\n",
       "      <td>FLEMING</td>\n",
       "      <td>2020-03</td>\n",
       "      <td>2020/04/01 00:00:00+00</td>\n",
       "      <td>9.0</td>\n",
       "      <td>13.0</td>\n",
       "      <td>12.93155</td>\n",
       "      <td>2029.524881</td>\n",
       "      <td>8.667942e+04</td>\n",
       "    </tr>\n",
       "    <tr>\n",
       "      <th>4</th>\n",
       "      <td>Yuba County</td>\n",
       "      <td>MELANESE</td>\n",
       "      <td>2020-04</td>\n",
       "      <td>2020/04/19 00:00:00+00</td>\n",
       "      <td>18.0</td>\n",
       "      <td>10.3</td>\n",
       "      <td>10.31596</td>\n",
       "      <td>1342.742903</td>\n",
       "      <td>7.017912e+04</td>\n",
       "    </tr>\n",
       "  </tbody>\n",
       "</table>\n",
       "</div>"
      ],
      "text/plain": [
       "       UNIT_ID FIRE_NAME ALARM_DATE               CONT_DATE  CAUSE  REPORT_AC  \\\n",
       "0  Yuba County    NELSON    2020-06  2020/06/23 00:00:00+00   11.0      110.0   \n",
       "1  Yuba County   AMORUSO    2020-06  2020/06/04 00:00:00+00    2.0      670.0   \n",
       "2  Yuba County    ATHENS    2020-08  2020/03/01 00:00:00+00   14.0       26.0   \n",
       "3  Yuba County   FLEMING    2020-03  2020/04/01 00:00:00+00    9.0       13.0   \n",
       "4  Yuba County  MELANESE    2020-04  2020/04/19 00:00:00+00   18.0       10.3   \n",
       "\n",
       "   GIS_ACRES  SHAPE_Length    SHAPE_Area  \n",
       "0  109.60250   4179.743142  7.331347e+05  \n",
       "1  685.58502  12399.375391  4.578172e+06  \n",
       "2   27.30048   2119.194120  1.823876e+05  \n",
       "3   12.93155   2029.524881  8.667942e+04  \n",
       "4   10.31596   1342.742903  7.017912e+04  "
      ]
     },
     "execution_count": 12,
     "metadata": {},
     "output_type": "execute_result"
    }
   ],
   "source": [
    "fire.head()"
   ]
  },
  {
   "cell_type": "code",
   "execution_count": null,
   "id": "ed6f4913-a746-4603-93ed-58f207c22d1c",
   "metadata": {},
   "outputs": [],
   "source": [
    "final.loc[final['GIS_ACRES'] > 0, 'CAUSE'] = 14"
   ]
  },
  {
   "cell_type": "code",
   "execution_count": null,
   "id": "18a4353e-9c16-4c7a-8d11-87605eb83adb",
   "metadata": {},
   "outputs": [],
   "source": []
  },
  {
   "cell_type": "code",
   "execution_count": null,
   "id": "b21f24a3-7556-45a7-8cfa-f427b4624801",
   "metadata": {},
   "outputs": [],
   "source": [
    "final.loc[(final['GIS_ACRES'] > 0) & (final['CAUSE'] == -1)] = 14"
   ]
  }
 ],
 "metadata": {
  "kernelspec": {
   "display_name": "Python 3",
   "language": "python",
   "name": "python3"
  },
  "language_info": {
   "codemirror_mode": {
    "name": "ipython",
    "version": 3
   },
   "file_extension": ".py",
   "mimetype": "text/x-python",
   "name": "python",
   "nbconvert_exporter": "python",
   "pygments_lexer": "ipython3",
   "version": "3.8.8"
  }
 },
 "nbformat": 4,
 "nbformat_minor": 5
}
